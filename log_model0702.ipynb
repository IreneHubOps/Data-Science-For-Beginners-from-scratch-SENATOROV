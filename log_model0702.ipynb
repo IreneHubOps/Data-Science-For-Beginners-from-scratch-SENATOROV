{
 "cells": [
  {
   "cell_type": "code",
   "execution_count": null,
   "metadata": {},
   "outputs": [],
   "source": [
    "\"\"\"Model analysis.\"\"\""
   ]
  },
  {
   "cell_type": "markdown",
   "metadata": {},
   "source": [
    "Необходимо составить следующие графики:\\n\",\n",
    "1) ящик с усами https://pythonru.com/biblioteki/seaborn-plot \\n\",\n",
    "https://stepik.org/lesson/313078/step/6 \\n\",\n",
    "2) scatter-plot https://coderlessons.com/tutorials/python-technologies/izuchai-siborna/seaborn-otsenki-plotnosti-iadra \\n\",\n",
    "3) гистограмма рассеяния - исследование отношений между переменными, какие зависимости \\n\",\n",
    "4) z-оценка \\n\",\n",
    " z-оценка (также называемая стандартной оценкой) дает представление о том, насколько она далека от среднего значения точки данных. Более \\n\",технически это мера того, сколько стандартных отклонений ниже или выше данной популяции означают необработанный балл. \\n\",\n",
    "5) https://www.ibm.com/docs/ru/cognos-analytics/11.2.0?topic=terms-modified-z-score  \\n\",\n",
    "6) корреляция Пирсона - https://habr.com/ru/articles/557998/ \\n\",\n",
    "7) https://www.kaggle.com/code/emstrakhov/lesson-2-correlation-analysis \\n\",\n",
    "8) что такое дисперсия  - гомогенность дисперсии для линейной модели регрессии \\n\",\n",
    "9) однородность данных - проверка, приведение данных к одному виду\\n\",\n",
    "10) как проверить, что модель обучена правильно, что такое переобучение модели \\n\",\n",
    "11) какие коэффициенты линейной регрессии, нужна ли регуляризация \\n\",\n",
    "12) GradientBoostingRegressor() \\n\",\n",
    "13) RandomForestRegressor() \\n\",\n",
    "14) LinearRegression() \\n\",\n",
    "15) что такое аддитивная Гауссова ошибка\n",
    "\"\\\"\\\"\\\"\\n\",\n",
    "    \"\\n\",\n",
    "    \"\\n\""
   ]
  },
  {
   "cell_type": "markdown",
   "metadata": {},
   "source": [
    "Видео Воронцов Линейная регрессия \\n\",\n",
    "https://www.youtube.com/watch?v=t5imStVGC7Y  \\n\",\n",
    "ссылка на семинары https://github.com/andriygav/MachineLearningSeminars \\n\",\n",
    "\"\\\"\\\"\\\"\\n\",\n",
    "    \"\\n\",\n",
    "    \"\\n\""
   ]
  }
 ],
 "metadata": {
  "language_info": {
   "name": "python"
  }
 },
 "nbformat": 4,
 "nbformat_minor": 2
}
