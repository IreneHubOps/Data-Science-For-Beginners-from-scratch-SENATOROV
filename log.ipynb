{
 "cells": [
  {
   "cell_type": "code",
   "execution_count": 1,
   "metadata": {},
   "outputs": [
    {
     "data": {
      "text/plain": [
       "'Файл, в котором я веду заметки о пройденных модулях.'"
      ]
     },
     "execution_count": 1,
     "metadata": {},
     "output_type": "execute_result"
    }
   ],
   "source": [
    "\"\"\"Файл, в котором я веду заметки о пройденных модулях.\"\"\""
   ]
  },
  {
   "cell_type": "markdown",
   "metadata": {},
   "source": [
    "# Модуль 1: Введение в математику\n",
    "\n",
    "\n",
    "**Дата:** 12.10.2024\n",
    "\n",
    "## Основные моменты урока:\n",
    "1. Определили цель изучения математики.\n",
    "2. Проверили знание школьной математики.\n",
    "3. Скачала PyPy и протестировала работу CPython и PyPy.\n"
   ]
  },
  {
   "cell_type": "markdown",
   "metadata": {},
   "source": [
    "# Модуль 2: Урок о математической индукции\n",
    "\n",
    "**Дата:** 13.10.2024\n",
    "\n",
    "## Тема: Математическая индукция\n",
    "\n",
    "### Основные моменты урока:\n",
    "1. **База индукции**\n",
    "2. **Индукционный переход**\n"
   ]
  },
  {
   "cell_type": "markdown",
   "metadata": {},
   "source": [
    "# Модуль 3: Введение в дифференциальные исчисления\n",
    "\n",
    "**Дата:** 19.10.2024\n",
    "\n",
    "## Тема: Введение в дифференциальные исчисления\n",
    "\n",
    "### Основные моменты урока:\n",
    "1. **Понятие числовой последовательности:**\n",
    "   1.1. Основные понятия  \n",
    "   1.2. Бесконечно малые и бесконечно большие последовательности  \n",
    "   1.3. Предел числовой последовательности  \n"
   ]
  },
  {
   "cell_type": "markdown",
   "metadata": {},
   "source": [
    "# Модуль, посвященный 4 уроку\n",
    "**Дата**: 20.10.24  \n",
    "**Тема**: Пределы\n",
    "\n",
    "## 1. Повторение прошлой темы\n",
    "Б.Б и б.м последовательности, что такое числовая последовательность и предел последовательности.\n",
    "\n",
    "## 2. Прорешанные примеры\n",
    "Примеры, связанные с темой пределов. Упражнения для закрепления материала.\n",
    "\n",
    "## 3. Метод Коши\n",
    "Обсуждали метод Коши"
   ]
  },
  {
   "cell_type": "markdown",
   "metadata": {},
   "source": [
    "# Модуль 5: Скачивание релизов и работа с GitHub\n",
    "\n",
    "**Дата:** 26.10.2024\n",
    "\n",
    "## Тема: Как скачивать релиз, как создавать issues и pull request\n",
    "1. **Скачивание релиза:**\n",
    "2. **Создание issues:**\n",
    "   - Что такое issue и зачем оно нужно.\n",
    "   - Как создать новый issue.\n",
    "   - Важные элементы: заголовок, описание, метки.\n",
    "3. **Создание pull request:**\n",
    "   - Что такое pull request и когда его создавать.\n",
    "\n"
   ]
  },
  {
   "cell_type": "markdown",
   "metadata": {},
   "source": [
    "## Модуль, посвященный 6 уроку\n",
    "### 27.10.2024\n",
    "#### Предел функции\n",
    "\n",
    "1. Определение предела функции по Коши\n",
    "2. Замечательные пределы\n",
    "3. Первый и второй замечательный предел\n",
    "5. Правила Лопиталя\n"
   ]
  },
  {
   "cell_type": "markdown",
   "metadata": {},
   "source": [
    "### Модуль, посвященный 7 уроку\n",
    "*02.11.2024*\n",
    "1. Повторили замечательные пределы\n",
    "2. Порядок роста функции\n",
    "3. Метод замены переменной в пределе\n"
   ]
  },
  {
   "cell_type": "markdown",
   "metadata": {},
   "source": [
    "### Модуль, посвященный 8 уроку\n",
    "*03.11.24*\n",
    "1. Замечательные эквивалентности в пределах\n",
    "    Сравнение б.м функции\n",
    "2. Непрерывность функции. Точки разрыва. Их классификации \n",
    "Как исследовать функцию на непрерывность?\n",
    "Односторонние пределы. \n"
   ]
  },
  {
   "cell_type": "markdown",
   "metadata": {},
   "source": [
    "### Модуль, посвященный 9 уроку\n",
    "*09.11.24*\n",
    "1. Повторили понятие непрерывности функции и периодичности функции\n",
    "2. Точки разрыва и их классификация\n",
    "    \n",
    "    -Односторонние пределы\n",
    "    \n",
    "    -Точка разрыва первого рода\n"
   ]
  },
  {
   "cell_type": "markdown",
   "metadata": {},
   "source": [
    "### Модуль, посвященный 10 уроку\n",
    "*10.11.24*\n",
    "1. Точки разрыва и их классификация \n",
    "    \n",
    "    -Точка разрыва первого рода\n",
    "\n",
    "    -Точки разрыва второго рода\n",
    "\n",
    "    -Практика\n",
    "\n"
   ]
  },
  {
   "cell_type": "markdown",
   "metadata": {},
   "source": [
    "### Модуль, посвященный 11 уроку\n",
    "*13.11.24*\n",
    "- Числовые ряды"
   ]
  },
  {
   "cell_type": "markdown",
   "metadata": {},
   "source": [
    "## Модуль 12 \n",
    "*16.11.24*\n",
    "- Прошел экзамен, по пределам"
   ]
  },
  {
   "cell_type": "markdown",
   "metadata": {},
   "source": [
    "### Модуль 13\n",
    "*23.11.2024*\n",
    "\n",
    "- Теория вероятности.\n",
    "1. Совместные и несовместные события.\n",
    "Противоположные события. Полная группа событий\n",
    "2. Сложение и умножение событий"
   ]
  },
  {
   "cell_type": "markdown",
   "metadata": {},
   "source": [
    "### Модуль 14\n",
    "*24.11.2024*\n",
    "\n",
    "Комбинаторика\n",
    "- Формулы перестановки, сочетания и размещения без повторений\n",
    "- Решение задач"
   ]
  },
  {
   "cell_type": "markdown",
   "metadata": {},
   "source": [
    "### Модуль 15\n",
    "*30.11.24*\n",
    "- Решение задач"
   ]
  },
  {
   "cell_type": "markdown",
   "metadata": {},
   "source": [
    "### Module 16\n",
    "*01.12.24*\n",
    "\n",
    "- Introduction to\n",
    " Probability Theory\n"
   ]
  },
  {
   "cell_type": "markdown",
   "metadata": {},
   "source": [
    "### Module 17\n",
    "\n",
    "*07.12.24*\n",
    "\n",
    "- We discussed the further \n",
    "study plan"
   ]
  },
  {
   "cell_type": "markdown",
   "metadata": {},
   "source": [
    "### Module 18\n",
    "*08.12.24*\n",
    "- Introduction to Machine Learning: Supervised and Unsupervised Learning"
   ]
  },
  {
   "cell_type": "markdown",
   "metadata": {},
   "source": [
    "### Module 19\n",
    "*09.12.24*\n",
    "- We started studying linear regression. 𝑦=𝑘𝑥+𝑏\n",
    "- We looked at an example with GDP."
   ]
  },
  {
   "cell_type": "markdown",
   "metadata": {},
   "source": [
    "### Module 20\n",
    "*12.12.24*\n",
    "- We plotted 5 data points on a graph and created a linear regression model\n",
    " \\( y = \\beta_0 + \\beta_1 x \\), where \\( \\beta_0 \\) and \\( \\beta_1 \\) \n",
    " are the parameters. We also calculated the residuals \n",
    " \\( e_1, e_2, ..., e_5 \\) as the differences between the actual \n",
    " \\( y_i \\) values and the predicted \\( \\hat{y}_i \\) values.\n"
   ]
  },
  {
   "cell_type": "markdown",
   "metadata": {},
   "source": [
    "### Module 21\n",
    "*17.12.24*\n",
    "- We explored MAE and MSE, delving into the topic of errors. We examined the loss function on a graph, discussed the loss function, and considered the global minimum and the point of extremum."
   ]
  },
  {
   "cell_type": "markdown",
   "metadata": {},
   "source": [
    "### Module 22\n",
    "*19.12.24*\n",
    " - Explored the loss function in more detail."
   ]
  },
  {
   "cell_type": "markdown",
   "metadata": {},
   "source": [
    "### Module 23\n",
    "*21.12.24*\n",
    "- Covered the concepts of vectors, gradient, and partial derivatives. Examined examples on 3D graphs and discussed the ideas of a local minimum and the antigradient.\n"
   ]
  },
  {
   "cell_type": "markdown",
   "metadata": {},
   "source": [
    "### Module 24 - 25\n",
    "*31.12.24*\n",
    "- Повторили тему производных(секущая,касательная). Рассмотрели антиградиент,градиент, понятие векторов. \n",
    "Рассмотрели тему частных производных"
   ]
  },
  {
   "cell_type": "markdown",
   "metadata": {},
   "source": [
    "### Module 26\n",
    "*02.01.25*\n",
    "- Повторили тему, функция потерь. Причину по которой нельзя \n",
    "брать производную в нуле в MAE"
   ]
  },
  {
   "cell_type": "markdown",
   "metadata": {},
   "source": [
    "### Module 27\n",
    "*04.01.25*\n",
    "- Создали на питоне дата фрейм,с \n",
    "использованием pandas,составили визуализацию\n",
    "посчитали y_pred c помощью numpy,matplotlib \n",
    "\n"
   ]
  },
  {
   "cell_type": "markdown",
   "metadata": {},
   "source": [
    "**Module 28**\n",
    "\n",
    "*07.01.25*\n",
    "\n",
    "- Рассмотрели как обойти ошибку с нулем в функции MAE с помощью функции знаков и доопределение функции. Далее перешли в питон и примерили новые методы на практике."
   ]
  },
  {
   "cell_type": "markdown",
   "metadata": {},
   "source": [
    "**Module 29**\n",
    "\n",
    "*09.01.25*\n",
    "\n",
    "- В начале урока повторили прошлую тему и вспомнили почему убираем знаменатель. \n",
    "\n",
    "Что такое Stash?\n",
    " Это удобная функция git, которая помогает сохранить изменения\n",
    "  и не потерять их. Stash нужен когда нужно\n",
    "   сохранить локальные изменения и принять\n",
    "    пулл в удаленного репозитория.Простыми \n",
    "    словами последние изменения в локальной\n",
    "     директории сохраняются в буфер обмена."
   ]
  },
  {
   "cell_type": "markdown",
   "metadata": {},
   "source": [
    "![alt text](image.png) - включает неотслеживаемые файлы в stash"
   ]
  },
  {
   "cell_type": "markdown",
   "metadata": {},
   "source": [
    "![alt text](image-1.png) - восстанавливаем последний stash"
   ]
  },
  {
   "cell_type": "markdown",
   "metadata": {},
   "source": [
    "![alt text](image-2.png)  - посмотреть stashs"
   ]
  },
  {
   "cell_type": "markdown",
   "metadata": {},
   "source": [
    "![alt text](image-3.png) - затрекаем временные изменения в коммит"
   ]
  },
  {
   "cell_type": "markdown",
   "metadata": {},
   "source": [
    "### Module 30\n",
    "*16.01.25*\n",
    "- Посчитали среднее значение w_change и b_change.\n",
    "И посчитали b_change"
   ]
  },
  {
   "cell_type": "markdown",
   "metadata": {},
   "source": [
    "### Module 31\n",
    "*18.01.25*\n",
    "- Начали писать алгоритм градиентного списка, рассмотрели learning rate и субградиент"
   ]
  },
  {
   "cell_type": "markdown",
   "metadata": {},
   "source": [
    "## Module 32\n",
    "*23.01.25*\n",
    "- Дописали алгоритм градиентного спуска, \n",
    "увидели общую ошибку и на практике применили learning rate"
   ]
  },
  {
   "cell_type": "markdown",
   "metadata": {},
   "source": [
    "### Module 33\n",
    "*23.01.25* \n",
    "- Окончательно дописали код по градиентному спуску.\n",
    "Завершили рассматривать функцию MAE\n"
   ]
  }
 ],
 "metadata": {
  "kernelspec": {
   "display_name": "Python 3",
   "language": "python",
   "name": "python3"
  },
  "language_info": {
   "codemirror_mode": {
    "name": "ipython",
    "version": 3
   },
   "file_extension": ".py",
   "mimetype": "text/x-python",
   "name": "python",
   "nbconvert_exporter": "python",
   "pygments_lexer": "ipython3",
   "version": "3.13.0"
  }
 },
 "nbformat": 4,
 "nbformat_minor": 2
}
