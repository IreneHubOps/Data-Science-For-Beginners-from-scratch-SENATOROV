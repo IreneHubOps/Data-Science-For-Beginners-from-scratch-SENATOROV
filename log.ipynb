{
 "cells": [
  {
   "cell_type": "code",
   "execution_count": null,
   "metadata": {},
   "outputs": [],
   "source": [
    "\"\"\"20.12 Intro.\"\"\""
   ]
  },
  {
   "cell_type": "code",
   "execution_count": null,
   "metadata": {},
   "outputs": [],
   "source": [
    "1. Изучила файл intro\n",
    "2. Зарегистрировалась на GitHub, Kaggle, ODS.AI\n",
    "3. Скачала и поставила всё необходимое ПО. \n",
    "4. Разобралась с ошибками в терминале Code.\n",
    "5. Присоединилась к команде, создала свою ветку, клонировала репозитарий."
   ]
  }
 ],
 "metadata": {
  "language_info": {
   "name": "python"
  }
 },
 "nbformat": 4,
 "nbformat_minor": 2
}
