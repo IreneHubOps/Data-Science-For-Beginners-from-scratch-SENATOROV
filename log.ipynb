{
 "cells": [
  {
   "cell_type": "code",
   "execution_count": null,
   "id": "4b8cca36-374a-48d1-8d16-f2a81bae7ec8",
   "metadata": {},
   "outputs": [],
   "source": [
    "\"\"\"Лог выполнения.\"\"\""
   ]
  },
  {
   "cell_type": "markdown",
   "id": "2b39603c-19d7-4a50-9497-738f61f73253",
   "metadata": {},
   "source": [
    "29/01\n",
    "\n",
    "1. Запустил следующие команды: git init, pip install pre-commit, pre-commit install, pre-commit run --all-files\n",
    "2. Создал файл log.ipynb для отслеживания шагов"
   ]
  }
 ],
 "metadata": {
  "jupytext": {
   "cell_metadata_filter": "-all",
   "notebook_metadata_filter": "-all"
  },
  "kernelspec": {
   "display_name": "Python 3 (ipykernel)",
   "language": "python",
   "name": "python3"
  },
  "language_info": {
   "codemirror_mode": {
    "name": "ipython",
    "version": 3
   },
   "file_extension": ".py",
   "mimetype": "text/x-python",
   "name": "python",
   "nbconvert_exporter": "python",
   "pygments_lexer": "ipython3",
   "version": "3.12.8"
  }
 },
 "nbformat": 4,
 "nbformat_minor": 5
}
