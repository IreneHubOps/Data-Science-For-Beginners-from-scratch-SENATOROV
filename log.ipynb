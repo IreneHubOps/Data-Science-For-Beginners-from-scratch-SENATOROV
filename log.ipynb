{
 "cells": [
  {
   "cell_type": "code",
   "execution_count": 1,
   "id": "78f1da37-bf48-430a-bf92-d8324aedddaa",
   "metadata": {},
   "outputs": [
    {
     "data": {
      "text/plain": [
       "'Лог выполнения.'"
      ]
     },
     "execution_count": 1,
     "metadata": {},
     "output_type": "execute_result"
    }
   ],
   "source": [
    "\"\"\"Лог выполнения.\"\"\""
   ]
  },
  {
   "cell_type": "markdown",
   "id": "6a6a53b9-44b7-4d1e-a20d-f38a7f544d3d",
   "metadata": {},
   "source": [
    "29/01\n",
    "\n",
    "1. Зарегестрировался в GitHub, Kaggle, ODS.AI\n",
    "2. Установил нужные программы\n",
    "3. Скачал репозиторий, создал новую ветку\n",
    "4. Создал файл log.ipynb для отслеживания шагов"
   ]
  },
  {
   "cell_type": "markdown",
   "id": "2d87d31f-52cd-4dd4-9a3c-724fbd9f800c",
   "metadata": {},
   "source": [
    "27/01\n",
    "\n",
    "1. Изучил основы линейной регрессии\n",
    "2. Машинное обучение бывают с учителем и без учителя\n",
    "3. Можно удалить лишние параметры (регуляризация)\n",
    "4. Модель нельзя переобучать. Задача в том чтобы линия (в линейной регрессии) проходила прямо, а не по точкам\n",
    "5. Немного познакомился с многомерной регрессией"
   ]
  },
  {
   "cell_type": "markdown",
   "id": "a0530943-88fc-4b62-a7cd-30425268f315",
   "metadata": {},
   "source": [
    "02/02\n",
    "\n",
    "1. Познакомился с теоремой Гаyсcа Маркова\n",
    "2. Несмещенная оценка и математическое ожидание\n",
    "3. Гомоскедастичность и гетероскедастичность"
   ]
  }
 ],
 "metadata": {
  "jupytext": {
   "cell_metadata_filter": "-all",
   "notebook_metadata_filter": "-all"
  },
  "kernelspec": {
   "display_name": "Python 3 (ipykernel)",
   "language": "python",
   "name": "python3"
  },
  "language_info": {
   "codemirror_mode": {
    "name": "ipython",
    "version": 3
   },
   "file_extension": ".py",
   "mimetype": "text/x-python",
   "name": "python",
   "nbconvert_exporter": "python",
   "pygments_lexer": "ipython3",
   "version": "3.12.8"
  }
 },
 "nbformat": 4,
 "nbformat_minor": 5
}
