{
 "cells": [
  {
   "cell_type": "code",
   "execution_count": null,
   "metadata": {},
   "outputs": [],
   "source": [
    "\"\"\"Модуль первого занятия.\"\"\""
   ]
  },
  {
   "cell_type": "markdown",
   "metadata": {},
   "source": [
    "20/01/2025\n",
    "\n",
    "1. Прочитал инструкцию  \n",
    "2. Зарегистрировался и оформил профили\n",
    "3. Скачал необходимые программы для учебы\n",
    "4. Скачал репозиторий на компьютер\n",
    "5. Присоединился к сообществу\n",
    "6. Создал ветку и настроил ее через терминал\n"
   ]
  }
 ],
 "metadata": {
  "kernelspec": {
   "display_name": "base",
   "language": "python",
   "name": "python3"
  },
  "language_info": {
   "codemirror_mode": {
    "name": "ipython",
    "version": 3
   },
   "file_extension": ".py",
   "mimetype": "text/x-python",
   "name": "python",
   "nbconvert_exporter": "python",
   "pygments_lexer": "ipython3",
   "version": "3.12.7"
  }
 },
 "nbformat": 4,
 "nbformat_minor": 2
}
