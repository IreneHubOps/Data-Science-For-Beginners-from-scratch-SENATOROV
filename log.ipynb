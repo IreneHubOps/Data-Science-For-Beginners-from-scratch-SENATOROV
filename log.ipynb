{
 "cells": [
  {
   "cell_type": "code",
   "metadata": {},
   "source": [
    "\"\"\"Этот Jupyter Notebook содержит описание логов и их обработку.\"\"\""
   ],
   "execution_count": null,
   "outputs": []
  },
  {
   "cell_type": "markdown",
   "metadata": {},
   "source": [
    "27/01/2025\n",
    "\n",
    "Выполнил пробный lesson1.ipynb (1+1)"
   ]
  }
 ],
 "metadata": {
  "language_info": {
   "name": "python"
  }
 },
 "nbformat": 4,
 "nbformat_minor": 2
}

