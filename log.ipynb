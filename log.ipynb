{
 "cells": [
  {
   "cell_type": "code",
   "execution_count": null,
   "metadata": {
    "vscode": {
     "languageId": "plaintext"
    }
   },
   "outputs": [],
   "source": [
    "\"\"\"Module 1. File log.\"\"\""
   ]
  },
  {
   "cell_type": "markdown",
   "metadata": {},
   "source": [
    "29/01\n",
    "\n",
    "1. Зарегистрировался аккаунты на необходимых платформах\n",
    "2. Скачал и установил программы\n",
    "3. Скачал репозиторий на свой пк\n",
    "4. Обновил ветки в Github Desktop и VSCode\n",
    "5. Создал log.ipynb для отслеживания прогресса"
   ]
  }
 ],
 "metadata": {
  "language_info": {
   "name": "python"
  }
 },
 "nbformat": 4,
 "nbformat_minor": 2
}
