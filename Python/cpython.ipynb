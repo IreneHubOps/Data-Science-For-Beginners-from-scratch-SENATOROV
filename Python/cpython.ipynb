{
 "cells": [
  {
   "cell_type": "code",
   "execution_count": 3,
   "metadata": {},
   "outputs": [
    {
     "data": {
      "text/plain": [
       "'Detailed explanation about  Python interpreters.'"
      ]
     },
     "execution_count": 3,
     "metadata": {},
     "output_type": "execute_result"
    }
   ],
   "source": [
    "\"\"\"Detailed explanation about  Python interpreters.\"\"\""
   ]
  },
  {
   "cell_type": "markdown",
   "metadata": {},
   "source": [
    "### Что такое CPython и чем он отличается от Python?\n",
    "\n",
    "CPython - стандартный интерпретатор Python, реализованный на языке программирования C.\n",
    "По сути CPython является наиболее популярной и широко используемой реализацией Python. Главным отличием является то что Python не зависит от языка реализации и может быть реализован на многих языках проограммирования. "
   ]
  },
  {
   "cell_type": "markdown",
   "metadata": {},
   "source": [
    "###  Сколько существует реализаций Python, и какая из них самая популярная?\n",
    "\n",
    "Существует много реализаций Python: \n",
    "\n",
    "1. CPython - говорили о ней выше и является наиболее популярным.\n",
    "2. IPython - интерпретатор по умолчанию, есть ограничения - нету отступов, выделения синтаксиса цветом.\n",
    "4. PyPy - Этот интерпретатор Python реализован в RPython, цель обеспечить максимальную совместимость с реализацией CPython и в то же время увеличить производительность\n",
    "5. Jython - реализация на языке Java, интеграция с Java-кодом и его библиотеками. позволяет запускать код Python на любой машине, на которой установлена JVM.\n",
    "6. lronPython - создан для платформы .NET, в которой используются библиотеки Python и .NET. \n",
    "7. PythonNet - бесшовная интеграция Python с .NET CLR.\n",
    "\n",
    "\n"
   ]
  },
  {
   "cell_type": "markdown",
   "metadata": {},
   "source": [
    "### На каком языке написан CPython?\n",
    "\n",
    "На языке C"
   ]
  },
  {
   "cell_type": "markdown",
   "metadata": {},
   "source": [
    "###  Почему Python считается быстрым, несмотря на то, что это интерпретируемый язык?\n",
    "\n",
    "Он считается быстрым за счет богатой экосистемы и поддержки большого количества библиотек. Но в плане быстроты уступает компилируемым языкам таким как C и C++\n"
   ]
  },
  {
   "cell_type": "markdown",
   "metadata": {},
   "source": [
    "###  Напишите путь к Интерпретатору CPython на вашем компьютере\n",
    "\n",
    "`C:\\Users\\Admin\\AppData\\Local\\Programs\\Python\\Python313`"
   ]
  },
  {
   "cell_type": "markdown",
   "metadata": {},
   "source": [
    "### Что содержится в папке include в CPython?\n",
    "\n",
    "В папке содержатся файлы с расширением .h, эти файлы позволяют разработчикам писать расширения или использовать встроенные возможности Python на уровне C. Эти файлы служат мостом между Python и внешним кодом на C или C++.\n"
   ]
  },
  {
   "cell_type": "markdown",
   "metadata": {},
   "source": [
    "### Где можно найти исходный код CPython дайте ссылку на репозиторий гитхаб\n",
    "\n",
    "`https://github.com/python/cpython`"
   ]
  },
  {
   "cell_type": "markdown",
   "metadata": {},
   "source": [
    "### Какая команда используется для запуска файла с помощью CPython?\n",
    "\n",
    "`python file_name.py`"
   ]
  },
  {
   "cell_type": "markdown",
   "metadata": {},
   "source": [
    "###  Можно ли запускать текстовые файлы через интерпретатор Python? Почему?\n",
    "\n",
    "Да, можно. Главное чтоб текстовый файл содержал код и его можно запустить."
   ]
  },
  {
   "cell_type": "markdown",
   "metadata": {},
   "source": [
    "###  Как указать путь к интерпретатору и файлу для выполнения кода?\n",
    "\n",
    "Сперва указываем путь к exe файлу python а затем полный путь к самому файлу \n",
    "\n",
    "`C:\\Users\\Admin\\AppData\\Local\\Programs\\Python\\Python313\\python.exe C:\\Users\\Admin\\AppData\\Local\\Programs\\Python\\Python313\\test.txt`"
   ]
  },
  {
   "cell_type": "markdown",
   "metadata": {},
   "source": [
    "###  Чем PyPy отличается от CPython?\n",
    "\n",
    "Он быстрее и фокусируется на производительности. Отличается от CPython тем, что PyPy использует механизм Just-In-Time (JIT) компиляции, который компилирует код в машинный код во время выполнения, что ускоряет выполнение программ"
   ]
  },
  {
   "cell_type": "markdown",
   "metadata": {},
   "source": [
    "### Почему PyPy не может использоваться для всех проектов на Python?\n",
    "\n",
    "Многие проекты используют библиотеки, написанные на C или C++, такие как NumPy, SciPy, TensorFlow и другие. Эти библиотеки взаимодействуют с Python через API CPython. Так же PyPy использует больше оперативной памяти чем CPython а это как мы знаем одна из критических факторов.\n"
   ]
  },
  {
   "cell_type": "markdown",
   "metadata": {},
   "source": [
    "### Где можно скачать PyPy? \n",
    "\n",
    "`https://www.pypy.org/download.html`"
   ]
  },
  {
   "cell_type": "markdown",
   "metadata": {},
   "source": [
    "###  Как установить PyPy после скачивания?\n",
    "\n",
    "Распаковать архив где лежит файл с PyPy\n",
    "\n",
    "### Как запустить файл с помощью PyPy?\n",
    "\n",
    "Та же система что и для Cpython, путь дл PyPy + путь до файла"
   ]
  },
  {
   "cell_type": "markdown",
   "metadata": {},
   "source": [
    "###  Почему PyPy выполняет код быстрее, чем CPython?\n",
    "\n",
    "Благодаря JIT компиляции, CPython выполняет код построчно, преобразуя его в машинный код. PyPy преобразовывает в машинный код во время работы программы а не  интерпретирует каждый раз заново."
   ]
  },
  {
   "cell_type": "markdown",
   "metadata": {},
   "source": [
    "#### 1.  Проверка версии CPython\n",
    "\n",
    "Python 3.13.0\n",
    "\n",
    "#### 2. Исследование структуры CPython\n",
    "\n",
    "Всего в папке  77 файлов \n",
    "\n",
    "#### 3. Запуск файла с помощью CPython\n",
    "\n",
    "Output: Hello from CPython!\n",
    "\n",
    "#### 4. Установка и использование PyPy\n",
    "\n",
    "Output : Hello from pypy!\n",
    "\n",
    "#### 5. Сравнение производительности CPython и PyPy\n",
    "\n",
    "PyPy: \n",
    "\n",
    "* Result: 49999995000000\n",
    "* Execution time: 0.008002281188964844 seconds\n",
    "\n",
    "CPython: \n",
    "* Result: 49999995000000\n",
    "* Execution time: 0.5600907802581787 seconds\n",
    "\n",
    "\n",
    "Результаты показывают что PyPy быстрее в  69 раз!"
   ]
  }
 ],
 "metadata": {
  "kernelspec": {
   "display_name": "base",
   "language": "python",
   "name": "python3"
  },
  "language_info": {
   "codemirror_mode": {
    "name": "ipython",
    "version": 3
   },
   "file_extension": ".py",
   "mimetype": "text/x-python",
   "name": "python",
   "nbconvert_exporter": "python",
   "pygments_lexer": "ipython3",
   "version": "3.12.7"
  }
 },
 "nbformat": 4,
 "nbformat_minor": 2
}
