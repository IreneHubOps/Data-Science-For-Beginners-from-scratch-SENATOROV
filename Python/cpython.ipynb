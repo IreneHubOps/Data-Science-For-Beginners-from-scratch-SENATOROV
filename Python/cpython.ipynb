{
 "cells": [
  {
   "cell_type": "code",
   "execution_count": null,
   "metadata": {},
   "outputs": [],
   "source": [
    "\"\"\"Task CPython and PyPy.\"\"\""
   ]
  },
  {
   "cell_type": "markdown",
   "metadata": {},
   "source": [
    "### 1. Что такое CPython и чем он отличается от Python?\n",
    "\n",
    "- CPython это распространенная реализация языка\n",
    " Python.Реализация написана на C и\n",
    " Python и является самой широко используемой\n",
    " и поставляется по умолчанию при установке Python."
   ]
  },
  {
   "cell_type": "markdown",
   "metadata": {},
   "source": [
    "### 2. Сколько существует реализаций Python, и какая из них самая популярная?\n",
    "\n",
    "Существует 6 реализаций Python:\n",
    "\n",
    "- CPython\n",
    "\n",
    "- PyPy\n",
    "\n",
    "- Jython\n",
    "\n",
    "- IronPython\n",
    "\n",
    "- MicroPython\n",
    "\n",
    "- Stackless Python"
   ]
  },
  {
   "cell_type": "markdown",
   "metadata": {},
   "source": [
    "### 3. На каком языке написан CPython?\n",
    "На Python и C. Ядро написано на C"
   ]
  },
  {
   "cell_type": "markdown",
   "metadata": {},
   "source": [
    "### 4. (опционально) Кто создал CPython?\n",
    "Гвидо ван Россум"
   ]
  },
  {
   "cell_type": "markdown",
   "metadata": {},
   "source": [
    "### 5. Почему Python считается быстрым, несмотря на то, что это интерпретируемый язык?\n",
    "\n",
    "Python считается быстрым для разработки\n",
    "благодаря его высокоуровневой структуре, которая делает\n",
    "код проще и быстрее в написании. Оптимизации\n",
    "в CPython, включая эффективные встроенные\n",
    "структуры данных, такие как списки и словари,\n",
    "а также использование сторонних библиотек\n",
    "(например, NumPy), которые выполняются\n",
    "на низкоуровневом языке C/C++,\n",
    "обеспечивают дополнительное ускорение."
   ]
  },
  {
   "cell_type": "markdown",
   "metadata": {},
   "source": [
    "### 7. Напишите путь к Интерпретатору CPython на вашем компьютере\n",
    "- C:\\Users\\Admin\\AppData\\Local\\Programs\\Python\\Python313\\python.exe"
   ]
  },
  {
   "cell_type": "markdown",
   "metadata": {},
   "source": [
    "### 8. Что содержится в папке include в CPython?\n",
    "В папке Include CPython содержатся\n",
    "заголовочные файлы,\n",
    "предоставляющие интерфейсы C API для работы \n",
    "с интерпретатором Python, включая основные структуры\n",
    "и функции, поддержку встроенных объектов \n",
    "модули, обработку исключений, \n",
    "управление памятью, многопоточность \n",
    "и расширение Python на уровне C."
   ]
  },
  {
   "cell_type": "markdown",
   "metadata": {},
   "source": [
    "### 9. Где можно найти исходный код CPython дайте ссылку на репозиторий гитхаб\n",
    "https://github.com/python/cpython"
   ]
  },
  {
   "cell_type": "markdown",
   "metadata": {},
   "source": [
    "### 10.(опционально) Как работает интерпретатор CPython\n",
    "### при выполнении кода?\n",
    "Интерпретатор CPython компилирует Python-код\n",
    "в байт-код, который выполняется виртуальной машиной,\n",
    "управляя памятью и сборкой мусора для работы объектов."
   ]
  },
  {
   "cell_type": "markdown",
   "metadata": {},
   "source": [
    "### 11. Какая команда используется для запуска файла с помощью CPython?\n",
    "- python file.py"
   ]
  },
  {
   "cell_type": "markdown",
   "metadata": {},
   "source": [
    "\n",
    "### 12. Можно ли запускать текстовые файлы через интерпретатор Python? Почему?\n",
    "Да, можно. Главное чтоб текстовый файл содержал код\n",
    "и его можно запустить. Пайтон игнорирует расширение,\n",
    "главное чтоб он смог прочитать код.\n"
   ]
  },
  {
   "cell_type": "markdown",
   "metadata": {},
   "source": [
    "### 13. Как указать путь к интерпретатору и файлу для выполнения кода?\n"
   ]
  },
  {
   "cell_type": "markdown",
   "metadata": {},
   "source": [
    "C:\\Users\\Admin\\AppData\\Local\\Programs\\Python\\\n",
    "Python313\\python.exe пробел file.py"
   ]
  },
  {
   "cell_type": "markdown",
   "metadata": {},
   "source": [
    "### 14. Чем PyPy отличается от CPython?\n",
    "Он быстрее и фокусируется на производительности.\n",
    "Отличается от CPython тем, что PyPy использует \n",
    "механизм Just-In-Time (JIT) компиляции, который \n",
    "компилирует код в машинный код во время \n",
    "выполнения, что ускоряет выполнение программ."
   ]
  },
  {
   "cell_type": "markdown",
   "metadata": {},
   "source": [
    "### 15. Почему PyPy не может использоваться для всех \n",
    "### проектов на Python?\n",
    "- Он довольно таки новый интерпретатор, и не часто используется из-за этого."
   ]
  },
  {
   "cell_type": "markdown",
   "metadata": {},
   "source": [
    "17. Как установить PyPy после скачивания?\n",
    "https://pypy.org/download.html\n",
    " - устанавливаем на официальном сайте"
   ]
  },
  {
   "cell_type": "markdown",
   "metadata": {},
   "source": [
    "### 18. Как запустить файл с помощью PyPy?\n",
    "C:\\Users\\Admin\\Downloads\\pypy3.10-v7.3.17-win64\\pypy3.10-v7.3.17-win64 путь до exe + file.txt"
   ]
  },
  {
   "cell_type": "markdown",
   "metadata": {},
   "source": [
    "### 19. Почему PyPy выполняет код быстрее, чем CPython?\n",
    "PyPy\n",
    "компилирует часто выполняемые участки кода\n",
    "в машинный код во время выполнения программы. \n",
    "A cpython интерпретирует байт-код на каждом шагу \n",
    "выполнения кода"
   ]
  },
  {
   "cell_type": "markdown",
   "metadata": {},
   "source": [
    "## Практические задания\n"
   ]
  },
  {
   "cell_type": "markdown",
   "metadata": {},
   "source": [
    "Задание 1: Поиск и установка CPython\n",
    "- Установлена версия 3.13.0"
   ]
  },
  {
   "cell_type": "markdown",
   "metadata": {},
   "source": [
    "Задание 2: Исследование структуры CPython\n",
    "- Всего в папке include 77 файлов на C"
   ]
  },
  {
   "cell_type": "markdown",
   "metadata": {},
   "source": [
    "Задание 3: Запуск файла с помощью CPython\n",
    "- Выводится Hello from CPython!"
   ]
  },
  {
   "cell_type": "markdown",
   "metadata": {},
   "source": [
    "Задание 4: Установка и использование PyPy\n",
    "- Output : Hello from pypy!"
   ]
  },
  {
   "attachments": {
    "image.png": {
     "image/png": "[encoded data removed]"
    }
   },
   "cell_type": "markdown",
   "metadata": {},
   "source": [
    "Задание 5: Сравнение производительности CPython и PyPy\n",
    "\n",
    "CPython: \n",
    "- Result: 49999995000000\n",
    "- Execution time: 1.0235819816589355 seconds\n",
    "\n",
    "PyPy:\n",
    "- Result: 49999995000000\n",
    "- Execution time: 0.07886266708374023 seconds\n",
    "\n",
    "![image.png](attachment:image.png)\n"
   ]
  },
  {
   "cell_type": "markdown",
   "metadata": {},
   "source": [
    "Разница между интерпретаторами есть,и не малая\n",
    "PyPy быстрее Cpython в 12 раз!!!"
   ]
  }
 ],
 "metadata": {
  "kernelspec": {
   "display_name": "base",
   "language": "python",
   "name": "python3"
  },
  "language_info": {
   "name": "python",
   "version": "3.11.7"
  }
 },
 "nbformat": 4,
 "nbformat_minor": 2
}
