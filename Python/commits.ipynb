{
 "cells": [
  {
   "cell_type": "code",
   "execution_count": null,
   "metadata": {},
   "outputs": [],
   "source": [
    "\"\"\" Commit Agreement \"\"\""
   ]
  },
  {
   "cell_type": "markdown",
   "metadata": {},
   "source": [
    "Соглашение о коммитах - соглашение о том как необходимо писать сообщения для коммитов. Набор правил для создании  понятной истории коммтов.\n",
    "\n",
    "Ниже будут приведены то как необходимо структурировать ваши сообщения в зависимости от того что вы сделали в своем коде:"
   ]
  },
  {
   "cell_type": "markdown",
   "metadata": {},
   "source": [
    "#### Основные комманды \n",
    "\n",
    "fix - исправление бага\n",
    "\n",
    "feat - добавление новой функции в коде\n",
    "\n",
    "BREAKING CHANGE - коммит нарушает совместимость кода\n",
    "\n",
    "! - для привлечения внимания к BREAKING CHANGE\n",
    "\n",
    "docs - изменение только в документации\n",
    "\n",
    "test - добавление теса или исправляет существующие\n",
    "\n",
    "build - изменение кода которая влияет на систему сборки или архитектуру\n",
    "\n",
    "ci - изменения в файлах конфигурации CI.\n",
    "\n",
    "perf - улучшение производительности \n",
    "\n",
    "chore - техническое обслуживание проекта (обновление зависимостей)\n"
   ]
  },
  {
   "cell_type": "markdown",
   "metadata": {},
   "source": [
    "#### Примеры\n",
    "\n",
    "#### Сообщение коммита с описанием и сноской BREAKING CHANGE\n",
    "\n",
    "feat: allow provided config object to extend other configs\n",
    "\n",
    "BREAKING CHANGE: `extends` key in config file is now used for extending other config files"
   ]
  },
  {
   "cell_type": "markdown",
   "metadata": {},
   "source": [
    "#### Сообщение коммита с ! для привлечения внимания к BREAKING CHANGE\n",
    "\n",
    "feat!: send an email to the customer when a product is shipped"
   ]
  },
  {
   "cell_type": "markdown",
   "metadata": {},
   "source": [
    "#### Сообщение коммита вместе с ! и сноской BREAKING CHANGE\n",
    "chore!: drop support for Node 6\n",
    "\n",
    "BREAKING CHANGE: use JavaScript features not available in Node 6."
   ]
  },
  {
   "cell_type": "markdown",
   "metadata": {},
   "source": [
    "#### Сообщение коммита без тела\n",
    "\n",
    "docs: correct spelling of CHANGELOG"
   ]
  },
  {
   "cell_type": "markdown",
   "metadata": {},
   "source": [
    "#### Сообщение коммита с контекстом\n",
    "\n",
    "feat(lang): add polish language"
   ]
  },
  {
   "cell_type": "markdown",
   "metadata": {},
   "source": [
    "#### Сообщение коммита с телом из нескольких абзацев и несколькими сносками\n",
    "\n",
    "fix: prevent racing of requests\n",
    "\n",
    "Introduce a request id and a reference to latest request. Dismiss\n",
    "incoming responses other than from latest request.\n",
    "\n",
    "Remove timeouts which were used to mitigate the racing issue but are\n",
    "obsolete now.\n",
    "\n",
    "Reviewed-by: Z\n",
    "Refs: #123"
   ]
  },
  {
   "cell_type": "markdown",
   "metadata": {},
   "source": [
    "### Спецификация\n",
    "\n",
    "Коммиты должны (MUST) начинается с типа, который является существительным: feat, fix и т.д. За ним следует необязательный (OPTIONAL) контекст, необязательный (OPTIONAL) восклицательный знак (!) и обязательные (REQUIRED) двоеточие (:) и пробел ( ).\n",
    "\n",
    "Тип feat - MUST\n",
    "Тип fix - MUST"
   ]
  },
  {
   "cell_type": "markdown",
   "metadata": {},
   "source": [
    "#### Зачем использовать «Соглашение о коммитах»\n",
    "\n",
    "Автоматическое создание списков изменения.\n",
    "\n",
    "Автоматическое определение семантического повышения версии \n",
    "\n",
    "Информирование товарищей по команде, общественности и других заинтересованных сторон о характере изменений.\n",
    "\n",
    "Запуск процессов сборки и публикации.\n",
    "\n",
    "Упрощать людям участие в ваших проектах, позволив им изучить более структурированную историю коммитов. "
   ]
  },
  {
   "cell_type": "markdown",
   "metadata": {},
   "source": [
    "### Далее я сделаю пару коммитов для практики "
   ]
  },
  {
   "cell_type": "markdown",
   "metadata": {},
   "source": [
    "Первый коммит - исправление бага в функции, которая некорректно округляет числа "
   ]
  },
  {
   "cell_type": "markdown",
   "metadata": {},
   "source": []
  }
 ],
 "metadata": {
  "kernelspec": {
   "display_name": "base",
   "language": "python",
   "name": "python3"
  },
  "language_info": {
   "name": "python",
   "version": "3.12.7"
  }
 },
 "nbformat": 4,
 "nbformat_minor": 2
}
