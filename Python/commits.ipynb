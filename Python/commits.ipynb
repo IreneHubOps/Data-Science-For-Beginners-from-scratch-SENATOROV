{
 "cells": [
  {
   "cell_type": "code",
   "execution_count": 2,
   "metadata": {},
   "outputs": [
    {
     "data": {
      "text/plain": [
       "'Task commits.'"
      ]
     },
     "execution_count": 2,
     "metadata": {},
     "output_type": "execute_result"
    }
   ],
   "source": [
    "\"\"\"Task commits.\"\"\""
   ]
  },
  {
   "cell_type": "markdown",
   "metadata": {},
   "source": [
    "1. Опишите своими словами назначение каждого\n",
    " из этих типов коммитов:"
   ]
  },
  {
   "cell_type": "markdown",
   "metadata": {},
   "source": [
    "- feat - добавляет новую фичу в код\n",
    "- fix - исправляет баг в коде\n",
    "- docs - такой нужен в случае, если изменения только в документации\n",
    "- style - не влияет на сам код (пробелы, точки с запятой и т.д)\n",
    "- refactor - помогает сделать код чище, т.е не влияет на фичи и\n",
    "- не чинит баг. Но делает код более читабельным и  понятным.\n",
    "- test - добавляет тесты или исправляет существующие\n",
    "- build - влияет на систему сборки или внешние зависимости\n",
    "- ci - добавляет изменения в файлах конфигурации CI и скриптах. \n",
    "То есть настраивает изменение процессов\n",
    "сборки, тестирования и деплоя.\n",
    "- perf - улучшается производительность \n",
    "- chore - нужен для технического обслуживания проекта\n",
    " ( модифицирование и обновление зависимостей)"
   ]
  },
  {
   "cell_type": "markdown",
   "metadata": {},
   "source": [
    "2) git commit -m \"fix: rounding error in round function \n",
    "Now it correctly rounds numbers\"\n",
    "\n",
    "\n"
   ]
  }
 ],
 "metadata": {
  "kernelspec": {
   "display_name": "base",
   "language": "python",
   "name": "python3"
  },
  "language_info": {
   "codemirror_mode": {
    "name": "ipython",
    "version": 3
   },
   "file_extension": ".py",
   "mimetype": "text/x-python",
   "name": "python",
   "nbconvert_exporter": "python",
   "pygments_lexer": "ipython3",
   "version": "3.13.0"
  }
 },
 "nbformat": 4,
 "nbformat_minor": 2
}
