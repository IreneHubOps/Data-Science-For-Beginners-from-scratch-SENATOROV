{
 "cells": [
  {
   "cell_type": "code",
   "execution_count": null,
   "metadata": {},
   "outputs": [],
   "source": [
    "\"\"\"Part about venv.\"\"\""
   ]
  },
  {
   "cell_type": "markdown",
   "metadata": {},
   "source": [
    "### Команды для работы с виртуальными окружениями в Python\n",
    "\n",
    "### 1. Команда `python -m venv venv`\n",
    "Создает в папке проекта папку с виртуальным окружением.\n",
    "\n",
    "#### 1.1 Команды для работы с `pip`\n",
    "- `pip list` — выводит список и версии всех пакетов Python, которые установлены в текущей среде.\n",
    "- `pip freeze > requirements.txt` — записывает список всех установленных пакетов с их версиями в файл `requirements.txt`.\n",
    "- `pip install -r requirements.txt` — устанавливает все пакеты из файла `requirements.txt`.\n",
    "\n",
    "### 2. Команды для работы с `conda`\n",
    "- `conda env list` — выводит список всех сред Conda, созданных на компьютере.\n",
    "- `conda create -n env_name python=3.5` — создает новую среду Conda с именем `env_name` и устанавливает в ней Python версии 3.5.\n",
    "- `conda env update -n env_name -f file.yml` — обновляет среду Conda с именем `env_name` на основе файла `file.yml`. Файл `file.yml` должен содержать описание среды, включая пакеты и их версии. Флаг `-n` указывает имя среды, а `-f` — файл, содержащий описание среды.\n",
    "- `source activate env_name` — активирует среду Conda с именем `env_name`. В Windows используется команда `conda activate env_name`.\n",
    "- `source deactivate` — деактивирует текущую среду Conda и возвращает вас к базовой среде. В Windows используется команда `conda deactivate`.\n",
    "- `conda clean -a` — удаляет все пакеты, которые больше не используются в любой среде Conda, а также очищает кэш пакетов. Флаг `-a` означает \"all\" и указывает на то, что необходимо удалить все неиспользуемые пакеты и очистить весь кэш.\n",
    "\n",
    "### 3. Активация окружений\n",
    "Вставьте скрин вашего терминала, где вы активировали сначала `venv`, потом `conda`, назовите окружение \"SENATOROV\".\n",
    "\n",
    "![image.png](attachment:image.png)\n",
    "![image-2.png](attachment:image-2.png)\n",
    "\n",
    "### 4. Установка пакетов в виртуальное окружение\n",
    "- **conda**:\n",
    "  - conda create -n SENATOROV python=3.13\n",
    "  - conda activate SENATOROV\n",
    "- **venv**:\n",
    "  - python -m venv SENATOROV\n",
    "  - SENATOROV\\Scripts\\activate\n",
    "  - pip install -r requirements.txt\n",
    "\n",
    "### 5. Экспорт зависимостей\n",
    "- `pip freeze > requirements.txt` — записывает список всех установленных пакетов с их версиями в файл `requirements.txt`.\n",
    "- `conda env export > environment.yml` — экспортирует текущую среду Conda в файл `environment.yml`. Этот файл содержит полное описание среды, включая все установленные пакеты и их версии.\n",
    "\n",
    "#### 5.1 Пример выполнения команды\n",
    "![image-3.png](attachment:image-3.png)\n",
    "\n",
    "### 6. Установка зависимостей из файлов\n",
    "- `pip install -r requirements.txt` — устанавливает все зависимости (библиотеки и пакеты), перечисленные в файле `requirements.txt`.\n",
    "- `conda env create -f environment.yml` — создает виртуальное окружение с помощью Conda на основе файла `environment.yml`.\n",
    "\n",
    "### 7. Информация о пакетах\n",
    "- `pip list` — выводит список всех пакетов, установленных в текущем Python-окружении, вместе с их версиями.\n",
    "- `pip show` — выводит подробную информацию о конкретном установленном пакете.\n",
    "- `conda list` — выводит список всех пакетов, установленных в текущем Conda-окружении.\n",
    "\n",
    "### 8. Сравнение `venv/pip` и `conda`\n",
    "- **Количество пакетов**: Пакетов больше в `venv`. Однако в Conda есть свой репозиторий с пакетами для многих языков программирования, что делает ее более привлекательной для data scientists при разработке сложных проектов. Кроме того, Conda сама управляет зависимостями.\n",
    "\n",
    "### 9. Пример выполнения команды\n",
    "![image-4.png](attachment:image-4.png)\n",
    "\n",
    "### 11. Зачем нужно виртуальное окружение?\n",
    "- Изолирует зависимости.\n",
    "- Обеспечивает легкость переноса проекта.\n",
    "- Управляет версиями Python.\n",
    "\n",
    "### 12. Ответ\n",
    "ДА"
   ]
  }
 ],
 "metadata": {
  "kernelspec": {
   "display_name": "base",
   "language": "python",
   "name": "python3"
  },
  "language_info": {
   "codemirror_mode": {
    "name": "ipython",
    "version": 3
   },
   "file_extension": ".py",
   "mimetype": "text/x-python",
   "name": "python",
   "nbconvert_exporter": "python",
   "pygments_lexer": "ipython3",
   "version": "3.12.7"
  }
 },
 "nbformat": 4,
 "nbformat_minor": 2
}
