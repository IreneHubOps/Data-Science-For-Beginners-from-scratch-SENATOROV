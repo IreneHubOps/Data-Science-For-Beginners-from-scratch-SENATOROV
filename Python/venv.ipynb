{
 "cells": [
  {
   "cell_type": "code",
   "execution_count": 1,
   "metadata": {},
   "outputs": [
    {
     "data": {
      "text/plain": [
       "' Работа с виртуальным окружением.'"
      ]
     },
     "execution_count": 1,
     "metadata": {},
     "output_type": "execute_result"
    }
   ],
   "source": [
    "\"\"\"Работа с виртуальным окружением.\"\"\""
   ]
  },
  {
   "cell_type": "markdown",
   "metadata": {},
   "source": [
    "1. Что делает команда python -m venv venv?\n",
    "Создает виртуальное окружение"
   ]
  },
  {
   "cell_type": "markdown",
   "metadata": {},
   "source": [
    "- pip list - выводит список всех установленных\n",
    " пакетов Python в текущей среде.\n",
    " Она показывает названия пакетов и их версии."
   ]
  },
  {
   "cell_type": "markdown",
   "metadata": {},
   "source": [
    " - pip freeze > requirements.txt - Эта команда создает файл с именем requirements.txt,\n",
    " в который записывается список всех установленных\n",
    "  пакетов и их точные версии.\n",
    "\n",
    "  - pip install -r requirements.txt\n",
    "  устанавливает все указанные  пакеты в файле requirements.txt.\n",
    "  \n",
    "- conda env list - выводит список всех виртуальных сред\n",
    "\n",
    "- conda create -n env_name python=3.5 - создает новую виртуальную среду с\n",
    " именем env_name и устанавливает в нее Python версии 3.5\n",
    "\n",
    "- conda env update -n env_name -f file.yml - обновляет пакеты в \n",
    "виртуальной среде env_name в соответствии\n",
    " со списком, указанным в файле file.yml.\n",
    "\n",
    "- source activate env_name - активация виртуальной среды\n",
    "\n",
    "- source deactivate - деактивирует\n",
    "\n",
    "- conda clean -a - удаляет все временные файлы, кеши и другие неиспользуемые файлы, \n",
    "связанные с conda. "
   ]
  },
  {
   "cell_type": "markdown",
   "metadata": {},
   "source": [
    "![alt text](image.png)"
   ]
  },
  {
   "cell_type": "markdown",
   "metadata": {},
   "source": [
    "![alt text](image-1.png)"
   ]
  },
  {
   "cell_type": "markdown",
   "metadata": {},
   "source": [
    "4. Как установить необходимые пакеты внутрь \n",
    "виртуального окружения для conda/venv?\n",
    "\n",
    "Для conda: conda install packet_name\n",
    "\n",
    "Для venv: pip install packet_name"
   ]
  },
  {
   "cell_type": "markdown",
   "metadata": {},
   "source": [
    "Что делают эти команды?\n",
    "\n",
    "pip freeze > requirements.txt - список всех установленных пакетов \n",
    "в виртуальном окружении(venv)\n",
    "\n",
    "conda env export > environment.yml - список всех установленных пакетов и их версии в conda"
   ]
  },
  {
   "cell_type": "markdown",
   "metadata": {},
   "source": [
    "5.1 ![alt text](image-2.png)"
   ]
  },
  {
   "cell_type": "markdown",
   "metadata": {},
   "source": [
    "6. Что делают эти команды?\n",
    "\n",
    "pip install -r requirements.txt - устанавливает все пакеты, перечисленные \n",
    "в файле requirements.txt, в текущее \n",
    "виртуальное окружение (venv или conda).\n",
    "\n",
    "conda env create -f environment.yml. -создает новое conda-окружение \n",
    "и устанавливает в него все зависимости, \n",
    "указанные в файле environment.yml."
   ]
  },
  {
   "cell_type": "markdown",
   "metadata": {},
   "source": [
    "7. Что делают команды?\n",
    "\n",
    "pip list\n",
    "показывает список всех установленных пакетов \n",
    "и их версий в текущем виртуальном окружении \n",
    "(используется с venv/conda).\n",
    "\n",
    "pip show \n",
    "отображает подробную информацию \n",
    "о конкретном установленном пакете,\n",
    " включая его версию,\n",
    "  местоположение и зависимости.\n",
    "\n",
    "conda list\n",
    "показывает список всех пакетов, установленных\n",
    " в текущем conda-окружении, включая версии и \n",
    " каналы, откуда они были установлены."
   ]
  },
  {
   "cell_type": "markdown",
   "metadata": {},
   "source": [
    "8. Где по умолчанию больше пакетов venv/pip или \n",
    "conda? \n",
    "и почему дата сайнинисты используют conda? \n",
    "\n",
    "Конечно в conda, она поставляется\n",
    " с набором базовых библиотек (numpy, scipy, pandas) \n",
    " и инструментов, необходимых для нас.\n",
    " сonda поддерживает как Python,\n",
    "  так и библиотеки на других языках (например, R, C).\n",
    "  Поэтому он такой удобный для нас, не надо ходить далеко\n",
    "  все в одном месте"
   ]
  },
  {
   "cell_type": "markdown",
   "metadata": {},
   "source": [
    "9. вставьте скрин где будет видно, Выбор интерпретатора Python (conda) в VS Code/cursor"
   ]
  },
  {
   "cell_type": "markdown",
   "metadata": {},
   "source": [
    "![alt text](image-3.png)"
   ]
  },
  {
   "cell_type": "markdown",
   "metadata": {},
   "source": [
    "10. Зачем нужно виртуально окружение? \n",
    "\n",
    "Виртуальные окружения в Python создаются для того,\n",
    " чтобы изолировать пакеты проектов друг от друга. \n",
    " Это особенно полезно при работе с несколькими проектами, \n",
    " которые требуют разных версий библиотек или инструментов."
   ]
  },
  {
   "cell_type": "markdown",
   "metadata": {},
   "source": [
    "11. С этого момента надо работать в виртуальном окружении conda,\n",
    " ты научился(-ась) выгружать зависимости и работать с окружением? \n",
    " Да, научилась. "
   ]
  }
 ],
 "metadata": {
  "kernelspec": {
   "display_name": "base",
   "language": "python",
   "name": "python3"
  },
  "language_info": {
   "codemirror_mode": {
    "name": "ipython",
    "version": 3
   },
   "file_extension": ".py",
   "mimetype": "text/x-python",
   "name": "python",
   "nbconvert_exporter": "python",
   "pygments_lexer": "ipython3",
   "version": "3.11.7"
  }
 },
 "nbformat": 4,
 "nbformat_minor": 2
}
