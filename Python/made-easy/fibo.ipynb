{
 "cells": [
  {
   "cell_type": "code",
   "execution_count": null,
   "metadata": {},
   "outputs": [],
   "source": [
    "\"\"\"Модуль для вычисления чисел Фибоначчи.\"\"\""
   ]
  },
  {
   "cell_type": "code",
   "execution_count": 1,
   "metadata": {},
   "outputs": [],
   "source": [
    "def fib(num: int) -> None:\n",
    "    \"\"\"Print Fibonacci numbers up to n.\n",
    "\n",
    "    Args:\n",
    "        n: Upper limit for Fibonacci sequence\n",
    "\n",
    "    Prints each Fibonacci number less than n, separated by spaces.\n",
    "    \"\"\"\n",
    "    alfa, beta = 0, 1\n",
    "    while alfa < num:\n",
    "        print(alfa, end=\" \")\n",
    "        alfa, beta = beta, alfa + beta\n",
    "    print()\n"
   ]
  },
  {
   "cell_type": "code",
   "execution_count": 2,
   "metadata": {},
   "outputs": [],
   "source": [
    "def fib2(num: int) -> list[int]:\n",
    "    \"\"\"Return list of Fibonacci numbers up to n.\n",
    "\n",
    "    Args:\n",
    "        n: Upper limit for Fibonacci sequence\n",
    "\n",
    "    Returns:\n",
    "        List containing Fibonacci numbers less than n\n",
    "    \"\"\"\n",
    "    result = []\n",
    "    alfa, beta = 0, 1\n",
    "    while alfa < num:\n",
    "        result.append(alfa)\n",
    "        alfa, beta = beta, alfa + beta\n",
    "    return result"
   ]
  }
 ],
 "metadata": {
  "kernelspec": {
   "display_name": "base",
   "language": "python",
   "name": "python3"
  },
  "language_info": {
   "codemirror_mode": {
    "name": "ipython",
    "version": 3
   },
   "file_extension": ".py",
   "mimetype": "text/x-python",
   "name": "python",
   "nbconvert_exporter": "python",
   "pygments_lexer": "ipython3",
   "version": "3.12.4"
  }
 },
 "nbformat": 4,
 "nbformat_minor": 2
}
