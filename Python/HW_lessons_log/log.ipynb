{
 "cells": [
  {
   "cell_type": "code",
   "execution_count": null,
   "metadata": {},
   "outputs": [],
   "source": [
    "\"\"\"Логирование уроков.\"\"\""
   ]
  },
  {
   "cell_type": "markdown",
   "metadata": {},
   "source": [
    "<p> 07.11.2024\n",
    "Обновляли линтеры.\n",
    "Делали прекомит, чистили кэш, разбирались с трассировкой.\n",
    "Удалили файлы .py созданные с ошибками. \n",
    "Повторно произвели преобразование файлов .ipynb в файлы .py</p>"
   ]
  },
  {
   "cell_type": "markdown",
   "metadata": {},
   "source": [
    "<p> 10.11.2014 даже не могу сказать что мы делали. Пытались отдать коммит. Но так ничего и не отдали. И сейчас ничего у меня не получается.</p>"
   ]
  },
  {
   "cell_type": "markdown",
   "metadata": {},
   "source": [
    "07/01/2025 Теория вероятностей. Случайные величины. Полный конспект C:\\Users\\Senatorov_education\\Documents\\GitHub\\Data-Science-For-Beginners-from-scratch-SENATOROV\\Python\\probability\\theory_lesson_070125.ipynb"
   ]
  },
  {
   "cell_type": "markdown",
   "metadata": {},
   "source": [
    "14/01/2025 Линейная алгебра. Векторы и координаты. Операции с векторами."
   ]
  },
  {
   "cell_type": "markdown",
   "metadata": {},
   "source": [
    "16.01.2025 Разложение вектора по базису."
   ]
  }
 ],
 "metadata": {
  "language_info": {
   "name": "python"
  }
 },
 "nbformat": 4,
 "nbformat_minor": 2
}
