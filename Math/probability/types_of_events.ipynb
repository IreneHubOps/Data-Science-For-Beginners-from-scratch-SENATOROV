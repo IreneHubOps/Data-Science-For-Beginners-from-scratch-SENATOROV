{
 "cells": [
  {
   "cell_type": "code",
   "execution_count": null,
   "metadata": {},
   "outputs": [],
   "source": [
    "\"\"\"Types of events.\"\"\""
   ]
  },
  {
   "cell_type": "markdown",
   "metadata": {
    "vscode": {
     "languageId": "plaintext"
    }
   },
   "source": [
    "import random\n",
    "\n",
    "# Certain Event: A tossed coin will fall to the ground (not simulated, as it's trivial).\n",
    "print(\"Certain Event: A tossed coin will always fall to the ground.\")\n",
    "\n",
    "# Impossible Event: A coin will not fly upwards infinitely.\n",
    "print(\"Impossible Event: A coin cannot fly upwards infinitely.\")\n",
    "\n",
    "# Random Event: Simulating a coin toss\n",
    "\n",
    "\n",
    "def coin_toss():\n",
    "    outcomes = [\"Heads\", \"Tails\"]\n",
    "    return random.choice(outcomes)\n",
    "\n",
    "\n",
    "print(f\"Random Event (Coin Toss): {coin_toss()}\")\n",
    "\n",
    "# Random Event: Simulating a dice roll\n",
    "\n",
    "\n",
    "def dice_roll():\n",
    "    return random.randint(1, 6)\n",
    "\n",
    "\n",
    "print(f\"Random Event (Dice Roll): {dice_roll()}\")\n",
    "\n",
    "# Random Event: Drawing a card from a shuffled deck\n",
    "\n",
    "\n",
    "def draw_card():\n",
    "    suits = [\"Clubs\", \"Spades\", \"Diamonds\", \"Hearts\"]\n",
    "    ranks = [\n",
    "        \"2\",\n",
    "        \"3\",\n",
    "        \"4\",\n",
    "        \"5\",\n",
    "        \"6\",\n",
    "        \"7\",\n",
    "        \"8\",\n",
    "        \"9\",\n",
    "        \"10\",\n",
    "        \"Jack\",\n",
    "        \"Queen\",\n",
    "        \"King\",\n",
    "        \"Ace\",\n",
    "    ]\n",
    "    deck = [f\"{rank} of {suit}\" for rank in ranks for suit in suits]\n",
    "    random.shuffle(deck)\n",
    "    return deck.pop()\n",
    "\n",
    "\n",
    "print(f\"Random Event (Card Draw): {draw_card()}\")\n",
    "\n",
    "# Checking for equally likely events\n",
    "\n",
    "\n",
    "def is_equally_likely(events):\n",
    "    probabilities = {event: events.count(event) / len(events) for event in set(events)}\n",
    "    return len(set(probabilities.values())) == 1\n",
    "\n",
    "\n",
    "# Example: Simulate 100 dice rolls and check for equal likelihood\n",
    "dice_results = [dice_roll() for _ in range(100)]\n",
    "print(f\"Dice Roll Results: {dice_results[:10]}...\")  # Display the first 10 results\n",
    "print(f\"Are dice rolls equally likely? {is_equally_likely(dice_results)}\")"
   ]
  }
 ],
 "metadata": {
  "language_info": {
   "name": "python"
  }
 },
 "nbformat": 4,
 "nbformat_minor": 2
}
