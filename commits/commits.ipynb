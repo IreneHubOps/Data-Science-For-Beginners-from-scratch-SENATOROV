{
 "cells": [
  {
   "cell_type": "code",
   "execution_count": null,
   "metadata": {
    "vscode": {
     "languageId": "plaintext"
    }
   },
   "outputs": [],
   "source": [
    "\"\"\"Conventional commits.\"\"\""
   ]
  },
  {
   "cell_type": "markdown",
   "metadata": {},
   "source": [
    "## Questions\n",
    "\n",
    "1. Опишите своими словами назначение каждого из этих типов коммитов:\n",
    "feat, fix, docs, style, refactor, test, build, ci, perf, chore.\n",
    "\n",
    "2. Представьте, что вы исправили баг в функции, которая некорректно округляет числа. Сделайте фиктивный коммит и напишите для него сообщение в соответствии с Conventional Commits (используя тип fix).\n",
    "\n",
    "3. Добавление новой функциональности:\n",
    "Допустим, вы реализовали новую функцию generateReport в проекте. Сделайте фиктивный коммит с типом feat, отражающий добавление этой функциональности\n",
    "\n",
    "4. Модификация формата кода или стилей:\n",
    "Представьте, что вы поправили отступы и форматирование во всём проекте, не меняя логики кода. Сделайте фиктивный коммит с типом style\n",
    "\n",
    "5. Документация и тестирование:\n",
    "\n",
    "Сделайте фиктивный коммит с типом docs, добавляющий или улучшающий документацию для вашей новой функции.\n",
    "Сделайте фиктивный коммит с типом test, добавляющий тесты для этой же функции."
   ]
  },
  {
   "cell_type": "markdown",
   "metadata": {},
   "source": [
    "## Answers\n",
    "\n",
    "1. Purpose of Commit Types:\n",
    "\n",
    "- `feat` — adding a new feature.\n",
    "- `fix` — fixing a bug.\n",
    "- `docs` — changes only in documentation.\n",
    "- `style` — formatting adjustments that do not affect logic (indentation, spaces, etc.).\n",
    "- `refactor` — improving code without changing functionality.\n",
    "- `test` — adding or modifying tests.\n",
    "- `build` — changes affecting the build system or dependencies.\n",
    "- `ci` — modifications to CI/CD configuration.\n",
    "- `perf` — performance optimizations.\n",
    "- `chore` — technical changes that do not affect the code (e.g., dependency updates).\n",
    "\n",
    "\n",
    "2. Fixing a bug in the rounding function\n",
    "\n",
    "```\n",
    "fix(math): correct number rounding issue\n",
    "\n",
    "Previously, the rounding function incorrectly rounded 2.5 down instead of up.\n",
    "This fix ensures proper rounding based on standard rules.\n",
    "\n",
    "Fixes #42\n",
    "```\n",
    "\n",
    "3. Adding the generateReport function\n",
    "\n",
    "```\n",
    "feat(reports): add generateReport function\n",
    "\n",
    "This function generates detailed reports in PDF format.\n",
    "It supports multiple data sources and customizable templates.\n",
    "```\n",
    "\n",
    "4. Formatting adjustments\n",
    "\n",
    "```\n",
    "style: fix indentation and formatting across the project\n",
    "```\n",
    "\n",
    "5. Updating documentation for generateReport\n",
    "\n",
    "```\n",
    "docs: added description of generateReport function to README\n",
    "\n",
    "test: added unit tests for generateReport\n",
    "```"
   ]
  }
 ],
 "metadata": {
  "language_info": {
   "name": "python"
  }
 },
 "nbformat": 4,
 "nbformat_minor": 2
}
