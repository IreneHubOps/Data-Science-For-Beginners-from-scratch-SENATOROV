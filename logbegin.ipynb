{
 "cells": [
  {
   "cell_type": "code",
   "execution_count": 2,
   "metadata": {},
   "outputs": [
    {
     "data": {
      "text/plain": [
       "'Introduction to linear regression.'"
      ]
     },
     "execution_count": 2,
     "metadata": {},
     "output_type": "execute_result"
    }
   ],
   "source": [
    "\"\"\"Introduction to linear regression.\"\"\""
   ]
  },
  {
   "cell_type": "markdown",
   "metadata": {},
   "source": [
    "04.01.2025 описание того, что выполнено на уроке\\n\",\n",
    "   1. Производная - определение\\n\",\n",
    "   модель регрессии\\n\",\n",
    "   2. Ввели понятие функции потерь \\n\",\n",
    "   3. Определение разницы MAE MSE : строка \\n\",MAE негладкая \\n\",\n",
    "   \"\\\"\\\"\\\"\\n\",\n",
    "    \"\\n\",\n",
    "    \"\\n\""
   ]
  }
 ],
 "metadata": {
  "kernelspec": {
   "display_name": "Python 3",
   "language": "python",
   "name": "python3"
  },
  "language_info": {
   "codemirror_mode": {
    "name": "ipython",
    "version": 3
   },
   "file_extension": ".py",
   "mimetype": "text/x-python",
   "name": "python",
   "nbconvert_exporter": "python",
   "pygments_lexer": "ipython3",
   "version": "3.12.4"
  }
 },
 "nbformat": 4,
 "nbformat_minor": 2
}
